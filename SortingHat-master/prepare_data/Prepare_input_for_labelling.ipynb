{
 "cells": [
  {
   "cell_type": "code",
   "execution_count": 1,
   "metadata": {
    "collapsed": true
   },
   "outputs": [],
   "source": [
    "import glob\n",
    "import pandas as pd\n",
    "from tqdm import tqdm\n",
    "import numpy as np\n",
    "import os\n",
    "from pandas.api.types import is_numeric_dtype\n",
    "from collections import Counter,defaultdict"
   ]
  },
  {
   "cell_type": "code",
   "execution_count": 2,
   "metadata": {
    "collapsed": true
   },
   "outputs": [],
   "source": [
    "def summary_stats(dat, key_s):\n",
    "    b_data = []\n",
    "    for col in key_s:\n",
    "        nans = np.count_nonzero(pd.isnull(dat[col]))\n",
    "        dist_val = len(pd.unique(dat[col].dropna()))\n",
    "        Total_val = len(dat[col])\n",
    "        #print(Total_val)\n",
    "        mean = 0\n",
    "        std_dev = 0\n",
    "        var = 0\n",
    "        min_val = 0\n",
    "        max_val = 0\n",
    "        if is_numeric_dtype(dat[col]):\n",
    "            mean = np.mean(dat[col])\n",
    "            \n",
    "            if pd.isnull(mean):\n",
    "                mean = 0\n",
    "                std_dev = 0\n",
    "                #var = 0\n",
    "                min_val = 0\n",
    "                max_val = 0\n",
    "                \n",
    "            else:    \n",
    "                std_dev = np.std(dat[col])\n",
    "                var = np.var(dat[col])\n",
    "                min_val = float(np.min(dat[col]))\n",
    "                max_val = float(np.max(dat[col]))\n",
    "        b_data.append([Total_val, nans, dist_val, mean, std_dev, min_val, max_val])\n",
    "    return b_data\n",
    "\n",
    "def castability_feature(dat, column_names):\n",
    "    castability_list = []\n",
    "    #make sure the value you are avaluating is not nan\n",
    "    for keys in column_names:\n",
    "        #print(keys)\n",
    "        i = 0\n",
    "        while pd.isnull(dat[keys][i]):\n",
    "            i += 1\n",
    "            if i > len(dat[keys]) - 2:\n",
    "                break\n",
    "        #if type is string try casting\n",
    "        if dat[keys][i].__class__.__name__ == 'str':\n",
    "            try:\n",
    "                castability = str(type(eval(dat[keys][i])))\n",
    "                castability_list.append(1)\n",
    "            except:\n",
    "                castability_list.append(0)\n",
    "        else:\n",
    "            castability_list.append(0)\n",
    "    return castability_list  \n",
    "\n",
    "def get_class_type(dat, column_names):\n",
    "    as_read = []\n",
    "    master_key_dictionary =  master_key()\n",
    "    for keys in column_names:\n",
    "        \n",
    "        #make sure the value you are avaluating is not nan\n",
    "        i = 0\n",
    "        while pd.isnull(dat[keys][i]):\n",
    "            i += 1\n",
    "            if i > len(dat[keys]) - 2:\n",
    "                break\n",
    "        val = -1\n",
    "        type_pyth = dat[keys][i].__class__.__name__\n",
    "        for tipe in master_key_dictionary:\n",
    "            if tipe in type_pyth:\n",
    "                val = master_key_dictionary[tipe]\n",
    "        as_read.append(val)\n",
    "    return as_read\n",
    "\n",
    "def master_key():\n",
    "    master_key_dic = defaultdict(int)\n",
    "    master_key_dic['str'] = 0\n",
    "    master_key_dic['float'] = 1\n",
    "    master_key_dic['int'] = 1\n",
    "    return master_key_dic\n",
    "\n",
    "def numeric_extraction(dat,column_names):\n",
    "    #0 no , 1 yes\n",
    "    numeric_extraction_list = []\n",
    "    #make sure the value you are avaluating is not nan\n",
    "    for keys in column_names:\n",
    "        i = 0\n",
    "        while pd.isnull(dat[keys][i]):\n",
    "            i += 1\n",
    "            if i > len(dat[keys]) - 2:\n",
    "                break\n",
    "        val = 0\n",
    "            \n",
    "        if dat[keys][i].__class__.__name__ == 'str':\n",
    "            #print('yes')\n",
    "            #check whether any number can be extracted\n",
    "            try:\n",
    "                #it will faile when you have no numbers or if you have two numbers seperated by space\n",
    "                float(re.sub('[^0-9\\. ]', ' ',dat[keys][i]))\n",
    "                #print('yes')\n",
    "                val = 1\n",
    "            except:\n",
    "                pass\n",
    "            \n",
    "        numeric_extraction_list.append(val)\n",
    "    \n",
    "    return numeric_extraction_list\n",
    "\n",
    "\n",
    "def val_length(dat,column_names):\n",
    "    val = []\n",
    "    for keys in column_names:\n",
    "        i = 0\n",
    "        while pd.isnull(dat[keys][i]):\n",
    "            i += 1\n",
    "            if i > len(dat[keys]) - 2:\n",
    "                break\n",
    "        val.append(len(str(dat[keys][i]).split()))\n",
    "    return val      "
   ]
  },
  {
   "cell_type": "code",
   "execution_count": 3,
   "metadata": {
    "collapsed": true
   },
   "outputs": [],
   "source": [
    "def get_sample(dat, key_s):\n",
    "    rand = []\n",
    "    for name in keys:\n",
    "        rand_sample = list(pd.unique(dat[name]))\n",
    "        rand_sample = rand_sample[:5]\n",
    "        while len(rand_sample) < 5:\n",
    "            rand_sample.append(list(pd.unique(dat[name]))[np.random.randint(len(list(pd.unique(dat[name]))))])\n",
    "        rand.append(rand_sample[:5])\n",
    "    return rand\n",
    "        "
   ]
  },
  {
   "cell_type": "code",
   "execution_count": 4,
   "metadata": {
    "collapsed": true
   },
   "outputs": [],
   "source": [
    "# read golden data\n",
    "csv_path = glob.glob('./data_set/golden_dataset/*.csv')\n",
    "stats = []\n",
    "attribute_name = []\n",
    "sample = []\n",
    "csv_names = []\n",
    "id_value = []\n",
    "i = 0\n",
    "url = list(pd.read_csv('./data_set/golden_meta_data/golden_url.csv', header = None)[0])\n",
    "url_list = []\n",
    "castability = []\n",
    "class_type = []\n",
    "number_extraction = []\n",
    "value_length = []"
   ]
  },
  {
   "cell_type": "code",
   "execution_count": 5,
   "metadata": {
    "collapsed": false
   },
   "outputs": [
    {
     "name": "stderr",
     "output_type": "stream",
     "text": [
      "100%|██████████| 32/32 [00:04<00:00,  7.53it/s]\n"
     ]
    }
   ],
   "source": [
    "for path_name in tqdm(csv_path):\n",
    "    i = i+1\n",
    "    df = pd.read_csv(path_name,encoding = 'latin1',lineterminator='\\n')\n",
    "    keys = list(df.keys())\n",
    "    #get features\n",
    "    attribute_name.extend(keys)\n",
    "    stats.extend(summary_stats(df, keys))\n",
    "    sample.extend(get_sample(df,keys))\n",
    "    csv_names.extend([path_name.split('/')[-1] for j in range(len(keys))])\n",
    "    id_value.extend([\"{0:0>5}\".format(i) for j in range(len(keys))])\n",
    "    url_list.extend([url[i-1] for j in range(len(keys))])\n",
    "    castability.extend(castability_feature(df, keys))\n",
    "    class_type.extend(get_class_type(df, keys))\n",
    "    number_extraction.extend(numeric_extraction(df, keys))\n",
    "    value_length.extend(val_length(df, keys))\n",
    "label_dict = {1:'Usable directly numeric', 2:'Usable with extraction', 3:'Usable directly categorical', 4:'Unusable', 5:'Context dependent'}\n",
    "## labels\n",
    "### 1. Usable directly numeric\n",
    "### 2. Usable with extraction \n",
    "### 3. Usable directly categorical\n",
    "### 4. Unusable"
   ]
  },
  {
   "cell_type": "markdown",
   "metadata": {},
   "source": [
    "# Adding y from Rule_check.csv"
   ]
  },
  {
   "cell_type": "code",
   "execution_count": 6,
   "metadata": {
    "collapsed": true
   },
   "outputs": [],
   "source": [
    "golden_rule_check = pd.read_csv('/Users/prem/Desktop/CSE 291A/data_set/golden_meta_data/Rule_check.csv')\n",
    "d2 = dict((v, k) for k, v in label_dict.items())\n",
    "y = [d2[golden_rule_check['Label'].loc[i]] for i in range(len(golden_rule_check['Label']))]"
   ]
  },
  {
   "cell_type": "code",
   "execution_count": 7,
   "metadata": {
    "collapsed": false
   },
   "outputs": [
    {
     "name": "stderr",
     "output_type": "stream",
     "text": [
      "100%|██████████| 489/489 [00:03<00:00, 141.75it/s]\n"
     ]
    }
   ],
   "source": [
    "#create golden csv\n",
    "csv_names = ['Record_id', 'label', 'Attribute_name','Total_val', 'Num of nans', 'num of dist_val', 'mean', 'std_dev', 'min_val', 'max_val','sample_1', 'sample_2', 'sample_3','sample_4','sample_5']\n",
    "golden_data = pd.DataFrame(columns = csv_names)\n",
    "for i in tqdm(range(len(y))):\n",
    "    val_append = [id_value[i]]\n",
    "    val_append.append(label_dict[y[i]])\n",
    "    val_append.append(attribute_name[i])\n",
    "    val_append.extend(stats[i])\n",
    "    val_append.extend(sample[i])\n",
    "    golden_data.loc[i] = val_append\n",
    "golden_data = golden_data.replace({r'\\r': ''}, regex=True)\n",
    "golden_data.to_csv('golden_data.csv', index = False)"
   ]
  },
  {
   "cell_type": "code",
   "execution_count": 8,
   "metadata": {
    "collapsed": false
   },
   "outputs": [
    {
     "name": "stderr",
     "output_type": "stream",
     "text": [
      "100%|██████████| 32/32 [00:00<00:00, 240.46it/s]\n"
     ]
    }
   ],
   "source": [
    "#create meta data for golden csv\n",
    "csv_names = ['Dataset_name', 'URL', 'CSV_filename','RecordID']\n",
    "golden_data_meta = pd.DataFrame(columns = csv_names)\n",
    "i = 0\n",
    "for path_name in tqdm(csv_path):\n",
    "    val_append = [path_name.split('/')[-1]]\n",
    "    val_append.append(url[i])\n",
    "    val_append.append(path_name.split('/')[-1])\n",
    "    val_append.append(list(np.unique(id_value))[i])\n",
    "    golden_data_meta.loc[i] = val_append\n",
    "    i = i+1\n",
    "golden_data_meta.to_csv('golden_data_meta.csv', index = False)"
   ]
  },
  {
   "cell_type": "code",
   "execution_count": 9,
   "metadata": {
    "collapsed": false
   },
   "outputs": [
    {
     "name": "stderr",
     "output_type": "stream",
     "text": [
      "100%|██████████| 489/489 [00:03<00:00, 129.93it/s]\n"
     ]
    }
   ],
   "source": [
    "#create data for random_forest\n",
    "csv_names = ['Record_id', 'y', 'Attribute_name','Total_val', 'Num of nans', 'num of dist_val', 'mean', 'std_dev', 'min_val', 'max_val','val_castability', 'val_extractability','val_length', 'val_type']\n",
    "golden_data = pd.DataFrame(columns = csv_names)\n",
    "for i in tqdm(range(len(y))):\n",
    "    val_append = [id_value[i]]\n",
    "    val_append.append(y[i])\n",
    "    val_append.append(attribute_name[i])\n",
    "    val_append.extend(stats[i])\n",
    "    val_append.append(castability[i])\n",
    "    val_append.append(number_extraction[i])\n",
    "    val_append.append(value_length[i])\n",
    "    val_append.append(class_type[i])\n",
    "    golden_data.loc[i] = val_append\n",
    "golden_data = golden_data.replace({r'\\r': ''}, regex=True)\n",
    "golden_data.to_csv('golden_data_Random_Forest.csv', index = False)"
   ]
  },
  {
   "cell_type": "code",
   "execution_count": 10,
   "metadata": {
    "collapsed": true
   },
   "outputs": [],
   "source": [
    "# read data and initiate values we need\n",
    "stats = []\n",
    "attribute_name = []\n",
    "sample = []\n",
    "csv_names = []\n",
    "id_value = []\n",
    "i = 0\n",
    "url = list(pd.read_csv('./data_set/meta_data/meta_data.csv', header = None)[1])\n",
    "csv_list = list(pd.read_csv('./data_set/meta_data/meta_data.csv', header = None)[0])\n",
    "url_list = []\n",
    "castability = []\n",
    "class_type = []\n",
    "number_extraction = []\n",
    "value_length = []"
   ]
  },
  {
   "cell_type": "code",
   "execution_count": 11,
   "metadata": {
    "collapsed": false
   },
   "outputs": [
    {
     "name": "stderr",
     "output_type": "stream",
     "text": [
      "  5%|▍         | 16/329 [00:35<11:33,  2.21s/it]/usr/local/lib/python3.6/site-packages/IPython/core/interactiveshell.py:2728: DtypeWarning: Columns (21,23) have mixed types. Specify dtype option on import or set low_memory=False.\n",
      "  interactivity=interactivity, compiler=compiler, result=result)\n",
      " 28%|██▊       | 92/329 [01:46<04:33,  1.15s/it]/usr/local/lib/python3.6/site-packages/IPython/core/interactiveshell.py:2728: DtypeWarning: Columns (22,32) have mixed types. Specify dtype option on import or set low_memory=False.\n",
      "  interactivity=interactivity, compiler=compiler, result=result)\n",
      " 29%|██▊       | 94/329 [01:58<04:56,  1.26s/it]/usr/local/lib/python3.6/site-packages/IPython/core/interactiveshell.py:2728: DtypeWarning: Columns (10,19,137,138,250) have mixed types. Specify dtype option on import or set low_memory=False.\n",
      "  interactivity=interactivity, compiler=compiler, result=result)\n",
      " 30%|██▉       | 98/329 [02:03<04:51,  1.26s/it]/usr/local/lib/python3.6/site-packages/IPython/core/interactiveshell.py:2728: DtypeWarning: Columns (3,10,19,137,138) have mixed types. Specify dtype option on import or set low_memory=False.\n",
      "  interactivity=interactivity, compiler=compiler, result=result)\n",
      " 30%|███       | 100/329 [02:32<05:49,  1.53s/it]/usr/local/lib/python3.6/site-packages/IPython/core/interactiveshell.py:2728: DtypeWarning: Columns (7,8,18,25) have mixed types. Specify dtype option on import or set low_memory=False.\n",
      "  interactivity=interactivity, compiler=compiler, result=result)\n",
      " 35%|███▍      | 114/329 [05:48<10:57,  3.06s/it]/usr/local/lib/python3.6/site-packages/IPython/core/interactiveshell.py:2728: DtypeWarning: Columns (23,24,25,28,29,30,38,39,40) have mixed types. Specify dtype option on import or set low_memory=False.\n",
      "  interactivity=interactivity, compiler=compiler, result=result)\n",
      " 41%|████▏     | 136/329 [10:04<14:18,  4.45s/it]/usr/local/lib/python3.6/site-packages/IPython/core/interactiveshell.py:2728: DtypeWarning: Columns (16) have mixed types. Specify dtype option on import or set low_memory=False.\n",
      "  interactivity=interactivity, compiler=compiler, result=result)\n",
      " 43%|████▎     | 140/329 [10:20<13:57,  4.43s/it]/usr/local/lib/python3.6/site-packages/IPython/core/interactiveshell.py:2728: DtypeWarning: Columns (18,19,21,22,23,24,25,63,64,79) have mixed types. Specify dtype option on import or set low_memory=False.\n",
      "  interactivity=interactivity, compiler=compiler, result=result)\n",
      " 43%|████▎     | 141/329 [10:59<14:39,  4.68s/it]/usr/local/lib/python3.6/site-packages/IPython/core/interactiveshell.py:2728: DtypeWarning: Columns (18,19,21,22,63,64,79) have mixed types. Specify dtype option on import or set low_memory=False.\n",
      "  interactivity=interactivity, compiler=compiler, result=result)\n",
      " 43%|████▎     | 142/329 [11:55<15:42,  5.04s/it]/usr/local/lib/python3.6/site-packages/IPython/core/interactiveshell.py:2728: DtypeWarning: Columns (19,22,23,25,63,79) have mixed types. Specify dtype option on import or set low_memory=False.\n",
      "  interactivity=interactivity, compiler=compiler, result=result)\n",
      " 43%|████▎     | 143/329 [12:11<15:51,  5.12s/it]/usr/local/lib/python3.6/site-packages/IPython/core/interactiveshell.py:2728: DtypeWarning: Columns (18,19,21,22,63,64,76) have mixed types. Specify dtype option on import or set low_memory=False.\n",
      "  interactivity=interactivity, compiler=compiler, result=result)\n",
      " 44%|████▍     | 144/329 [15:07<19:25,  6.30s/it]/usr/local/lib/python3.6/site-packages/IPython/core/interactiveshell.py:2728: DtypeWarning: Columns (18,19,21,22,23,63,64,79) have mixed types. Specify dtype option on import or set low_memory=False.\n",
      "  interactivity=interactivity, compiler=compiler, result=result)\n",
      " 48%|████▊     | 158/329 [16:08<17:28,  6.13s/it]/usr/local/lib/python3.6/site-packages/IPython/core/interactiveshell.py:2728: DtypeWarning: Columns (8) have mixed types. Specify dtype option on import or set low_memory=False.\n",
      "  interactivity=interactivity, compiler=compiler, result=result)\n",
      " 50%|████▉     | 163/329 [16:36<16:55,  6.12s/it]/usr/local/lib/python3.6/site-packages/IPython/core/interactiveshell.py:2728: DtypeWarning: Columns (7,10,18,19,20,21,23,30,31,32,33) have mixed types. Specify dtype option on import or set low_memory=False.\n",
      "  interactivity=interactivity, compiler=compiler, result=result)\n",
      " 50%|█████     | 165/329 [16:45<16:39,  6.09s/it]/usr/local/lib/python3.6/site-packages/IPython/core/interactiveshell.py:2728: DtypeWarning: Columns (0,1,2,3,4,5,6,7,10,11,16,17,20,21,22,25,26,27,28,29,30,31,32,33,34,35,36,37,39,40,41,42,43,44,45,47,48,49,50,51,52,53,55,56,57,58,59,60,61,63,64,65,66,68,69,70,71,72,73,74,77,79,80,81,82,83,84,85,86,87,88,89,90,91,92,93,94,95,100,101,103,104,105,106,107,108,109,110,111,112,113,114,115,116,117,118,119,120,121,122,123,124,125,126,127,128,129,130,131,132,133,134,135,136,137,138,139,140,141,142,143,144,145,146,147,148,149,150,153) have mixed types. Specify dtype option on import or set low_memory=False.\n",
      "  interactivity=interactivity, compiler=compiler, result=result)\n",
      " 60%|██████    | 198/329 [1:27:06<57:38, 26.40s/it]  /usr/local/lib/python3.6/site-packages/IPython/core/interactiveshell.py:2728: DtypeWarning: Columns (1) have mixed types. Specify dtype option on import or set low_memory=False.\n",
      "  interactivity=interactivity, compiler=compiler, result=result)\n",
      " 63%|██████▎   | 207/329 [1:28:19<52:03, 25.60s/it]/usr/local/lib/python3.6/site-packages/IPython/core/interactiveshell.py:2728: DtypeWarning: Columns (5) have mixed types. Specify dtype option on import or set low_memory=False.\n",
      "  interactivity=interactivity, compiler=compiler, result=result)\n",
      " 64%|██████▍   | 210/329 [1:28:32<50:10, 25.30s/it]/usr/local/lib/python3.6/site-packages/IPython/core/interactiveshell.py:2728: DtypeWarning: Columns (2) have mixed types. Specify dtype option on import or set low_memory=False.\n",
      "  interactivity=interactivity, compiler=compiler, result=result)\n",
      " 76%|███████▌  | 249/329 [1:30:12<28:58, 21.74s/it]/usr/local/lib/python3.6/site-packages/IPython/core/interactiveshell.py:2728: DtypeWarning: Columns (20) have mixed types. Specify dtype option on import or set low_memory=False.\n",
      "  interactivity=interactivity, compiler=compiler, result=result)\n",
      " 81%|████████▏ | 268/329 [1:30:52<20:41, 20.35s/it]/usr/local/lib/python3.6/site-packages/IPython/core/interactiveshell.py:2728: DtypeWarning: Columns (0,38,40) have mixed types. Specify dtype option on import or set low_memory=False.\n",
      "  interactivity=interactivity, compiler=compiler, result=result)\n",
      " 89%|████████▉ | 294/329 [1:32:17<10:59, 18.83s/it]/usr/local/lib/python3.6/site-packages/IPython/core/interactiveshell.py:2728: DtypeWarning: Columns (4) have mixed types. Specify dtype option on import or set low_memory=False.\n",
      "  interactivity=interactivity, compiler=compiler, result=result)\n",
      " 94%|█████████▍| 309/329 [1:32:37<05:59, 17.99s/it]/usr/local/lib/python3.6/site-packages/IPython/core/interactiveshell.py:2728: DtypeWarning: Columns (0) have mixed types. Specify dtype option on import or set low_memory=False.\n",
      "  interactivity=interactivity, compiler=compiler, result=result)\n",
      " 96%|█████████▋| 317/329 [1:32:59<03:31, 17.60s/it]/usr/local/lib/python3.6/site-packages/IPython/core/interactiveshell.py:2728: DtypeWarning: Columns (403,405,832,833,841,844,857,915,916,928,929,941,942,954,955,957,958,967,968,970,971,980,981,993,994,996,997,1006,1007,1009,1010,1022,1023,1035,1036,1048,1049,1071,1072,1084,1085,1087,1088,1097,1098,1100,1101,1110,1111,1113,1114,1126,1127,1139,1140,1149,1150,1152,1153,1162,1163,1165,1166,1178,1179,1191,1192,1204,1205,1217,1218,1227,1228,1230,1231,1240,1241,1243,1244,1256,1257,1269,1270,1282,1283,1295,1296,1306,1308,1309,1319,1321,1322,1335,1347,1348,1373,1374,1386,1387,1399,1400,1412,1413,1451,1452,1453,1480,1481,1482,1534,1535,1536,1537,1538,1539,1540,1541,1542,1543,1544,1545,1546,1547,1548,1549,1654,1669,1704,1732,1734,1735,1736,1737,1738,1739,1740,1741,1742,1743,1744,1745,1746,1747,1748,1749,1750,1751,1752,1753) have mixed types. Specify dtype option on import or set low_memory=False.\n",
      "  interactivity=interactivity, compiler=compiler, result=result)\n",
      " 97%|█████████▋| 318/329 [1:36:31<03:20, 18.21s/it]/usr/local/lib/python3.6/site-packages/IPython/core/interactiveshell.py:2728: DtypeWarning: Columns (5,7,8,13) have mixed types. Specify dtype option on import or set low_memory=False.\n",
      "  interactivity=interactivity, compiler=compiler, result=result)\n",
      " 97%|█████████▋| 319/329 [1:36:42<03:01, 18.19s/it]/usr/local/lib/python3.6/site-packages/IPython/core/interactiveshell.py:2728: DtypeWarning: Columns (40,141) have mixed types. Specify dtype option on import or set low_memory=False.\n",
      "  interactivity=interactivity, compiler=compiler, result=result)\n",
      " 98%|█████████▊| 321/329 [1:37:02<02:25, 18.14s/it]/usr/local/lib/python3.6/site-packages/IPython/core/interactiveshell.py:2728: DtypeWarning: Columns (6,14) have mixed types. Specify dtype option on import or set low_memory=False.\n",
      "  interactivity=interactivity, compiler=compiler, result=result)\n",
      " 98%|█████████▊| 323/329 [1:37:10<01:48, 18.05s/it]/usr/local/lib/python3.6/site-packages/IPython/core/interactiveshell.py:2728: DtypeWarning: Columns (4,6,7,11,13,14,17,18) have mixed types. Specify dtype option on import or set low_memory=False.\n",
      "  interactivity=interactivity, compiler=compiler, result=result)\n",
      "100%|██████████| 329/329 [1:37:52<00:00, 17.85s/it]\n"
     ]
    }
   ],
   "source": [
    "for path_name in tqdm(csv_list):\n",
    "    i = i+1\n",
    "    df = pd.read_csv(os.path.join('./data_set/dataset/',path_name),encoding = 'latin1',lineterminator='\\n')\n",
    "    keys = list(df.keys())\n",
    "    #get features\n",
    "    attribute_name.extend(keys)\n",
    "    stats.extend(summary_stats(df, keys))\n",
    "    sample.extend(get_sample(df,keys))\n",
    "    csv_names.extend([path_name.split('/')[-1] for j in range(len(keys))])\n",
    "    id_value.extend([\"{0:0>5}\".format(i+len(golden_data_meta)) for j in range(len(keys))])\n",
    "    url_list.extend([url[i-1] for j in range(len(keys))])\n",
    "    castability.extend(castability_feature(df, keys))\n",
    "    class_type.extend(get_class_type(df, keys))\n",
    "    number_extraction.extend(numeric_extraction(df, keys))\n",
    "    value_length.extend(val_length(df, keys))"
   ]
  },
  {
   "cell_type": "code",
   "execution_count": 12,
   "metadata": {
    "collapsed": false
   },
   "outputs": [
    {
     "name": "stderr",
     "output_type": "stream",
     "text": [
      "100%|██████████| 10741/10741 [02:05<00:00, 85.59it/s]\n"
     ]
    }
   ],
   "source": [
    "#create csv\n",
    "csv_names = ['Record_id', 'Attribute_name','Total_val', 'Num of nans', 'num of dist_val', 'mean', 'std_dev', 'min_val', 'max_val','sample_1', 'sample_2', 'sample_3','sample_4','sample_5']\n",
    "data = pd.DataFrame(columns = csv_names)\n",
    "for i in tqdm(range(len(attribute_name))):\n",
    "    val_append = [id_value[i]]\n",
    "    val_append.append(attribute_name[i])\n",
    "    val_append.extend(stats[i])\n",
    "    val_append.extend(sample[i])\n",
    "    data.loc[i] = val_append"
   ]
  },
  {
   "cell_type": "code",
   "execution_count": 13,
   "metadata": {
    "collapsed": true
   },
   "outputs": [],
   "source": [
    "data = data.replace({r'\\r': ''}, regex=True)\n",
    "data.to_csv('data.csv', index = False)"
   ]
  },
  {
   "cell_type": "code",
   "execution_count": 14,
   "metadata": {
    "collapsed": false
   },
   "outputs": [
    {
     "name": "stderr",
     "output_type": "stream",
     "text": [
      "100%|██████████| 329/329 [00:02<00:00, 159.41it/s]\n"
     ]
    }
   ],
   "source": [
    "#create meta data for csv\n",
    "csv_names = ['Dataset_name', 'URL', 'CSV_filename','RecordID']\n",
    "data_meta = pd.DataFrame(columns = csv_names)\n",
    "i = 0\n",
    "for i in tqdm(range(len(csv_list))):\n",
    "    val_append = [csv_list[i]]\n",
    "    val_append.append(url[i])\n",
    "    val_append.append(csv_list[i])\n",
    "    val_append.append(list(np.unique(id_value))[i])\n",
    "    data_meta.loc[i] = val_append\n",
    "    i = i+1\n",
    "data_meta.to_csv('data_meta.csv',sep=',', index = False)"
   ]
  },
  {
   "cell_type": "code",
   "execution_count": 15,
   "metadata": {
    "collapsed": true
   },
   "outputs": [],
   "source": [
    "golden_rule_check = pd.read_csv('/Users/prem/Desktop/CSE 291A/data_set/golden_meta_data/Rule_check.csv')"
   ]
  },
  {
   "cell_type": "code",
   "execution_count": 16,
   "metadata": {
    "collapsed": false
   },
   "outputs": [
    {
     "data": {
      "text/plain": [
       "Counter({0: 489})"
      ]
     },
     "execution_count": 16,
     "metadata": {},
     "output_type": "execute_result"
    }
   ],
   "source": [
    "d2 = dict((v, k) for k, v in label_dict.items())\n",
    "Counter([0 if y[i]-d2[golden_rule_check['Label'].loc[i]] == 0 else i for i in range(len(golden_rule_check['Label']))])"
   ]
  }
 ],
 "metadata": {
  "kernelspec": {
   "display_name": "Python 3",
   "language": "python",
   "name": "python3"
  },
  "language_info": {
   "codemirror_mode": {
    "name": "ipython",
    "version": 3
   },
   "file_extension": ".py",
   "mimetype": "text/x-python",
   "name": "python",
   "nbconvert_exporter": "python",
   "pygments_lexer": "ipython3",
   "version": "3.6.0"
  }
 },
 "nbformat": 4,
 "nbformat_minor": 2
}
