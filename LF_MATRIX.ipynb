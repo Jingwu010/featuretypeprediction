{
 "cells": [
  {
   "cell_type": "code",
   "execution_count": 1,
   "metadata": {},
   "outputs": [],
   "source": [
    "import pandas as pd\n",
    "import numpy as np\n",
    "import nltk\n",
    "import os"
   ]
  },
  {
   "cell_type": "code",
   "execution_count": 2,
   "metadata": {},
   "outputs": [
    {
     "name": "stdout",
     "output_type": "stream",
     "text": [
      "reading files data_for_labelling4.xlsx\n",
      "reading files data_for_labelling8.xlsx\n",
      "reading files data_for_labelling9.xlsx\n",
      "reading files data_for_labelling5.xlsx\n",
      "reading files data_for_labelling3.xlsx\n",
      "reading files data_for_labelling2.csv.xlsx\n",
      "reading files data_for_labelling6 (1) (1).xlsx\n",
      "reading files data_for_labelling1.csv.xlsx\n",
      "reading files data_for_labelling0.csv.xlsx\n",
      "reading files data_for_labelling7.xlsx\n"
     ]
    }
   ],
   "source": [
    "import os\n",
    "number_of_files = 1000\n",
    "base_dir = 'data/labels/'\n",
    "ext = '.xlsx'\n",
    "df = pd.DataFrame()\n",
    "for file_name in os.listdir(base_dir):\n",
    "    if number_of_files < 0: break\n",
    "    if not file_name.endswith(ext): continue\n",
    "    number_of_files -= 1\n",
    "    print('reading files', file_name)\n",
    "    df = df.append(pd.read_excel(base_dir + file_name))"
   ]
  },
  {
   "cell_type": "code",
   "execution_count": 3,
   "metadata": {},
   "outputs": [
    {
     "data": {
      "text/plain": [
       "% nans             float64\n",
       "Attribute_name      object\n",
       "Check               object\n",
       "Num of nans          int64\n",
       "Reason              object\n",
       "Record_id            int64\n",
       "Total_val            int64\n",
       "Unnamed: 2          object\n",
       "Unnamed: 9         float64\n",
       "check               object\n",
       "max_val            float64\n",
       "mean               float64\n",
       "min_val            float64\n",
       "num of dist_val      int64\n",
       "reason              object\n",
       "sample_1            object\n",
       "sample_2            object\n",
       "sample_3            object\n",
       "sample_4            object\n",
       "sample_5            object\n",
       "std_dev            float64\n",
       "y_Arun              object\n",
       "y_act               object\n",
       "y_pred              object\n",
       "dtype: object"
      ]
     },
     "execution_count": 3,
     "metadata": {},
     "output_type": "execute_result"
    }
   ],
   "source": [
    "df.dtypes"
   ]
  },
  {
   "cell_type": "code",
   "execution_count": 4,
   "metadata": {},
   "outputs": [
    {
     "name": "stdout",
     "output_type": "stream",
     "text": [
      "['% nans', 'Attribute_name', 'Check', 'Num of nans', 'Reason', 'Record_id', 'Total_val', 'Unnamed: 2', 'Unnamed: 9', 'check', 'max_val', 'mean', 'min_val', 'num of dist_val', 'reason', 'sample_1', 'sample_2', 'sample_3', 'sample_4', 'sample_5', 'std_dev', 'y_Arun', 'y_act', 'y_pred']\n"
     ]
    }
   ],
   "source": [
    "cols = df.columns.tolist()\n",
    "print(cols)"
   ]
  },
  {
   "cell_type": "code",
   "execution_count": 5,
   "metadata": {},
   "outputs": [],
   "source": [
    "cols = ['y_act','Reason','Attribute_name','Total_val','num of dist_val','% nans'] + cols[10:13] + ['std_dev'] + cols[15:-4]"
   ]
  },
  {
   "cell_type": "code",
   "execution_count": 6,
   "metadata": {
    "scrolled": false
   },
   "outputs": [
    {
     "data": {
      "text/html": [
       "<div>\n",
       "<style scoped>\n",
       "    .dataframe tbody tr th:only-of-type {\n",
       "        vertical-align: middle;\n",
       "    }\n",
       "\n",
       "    .dataframe tbody tr th {\n",
       "        vertical-align: top;\n",
       "    }\n",
       "\n",
       "    .dataframe thead th {\n",
       "        text-align: right;\n",
       "    }\n",
       "</style>\n",
       "<table border=\"1\" class=\"dataframe\">\n",
       "  <thead>\n",
       "    <tr style=\"text-align: right;\">\n",
       "      <th></th>\n",
       "      <th>y_act</th>\n",
       "      <th>Reason</th>\n",
       "      <th>Attribute_name</th>\n",
       "      <th>Total_val</th>\n",
       "      <th>num of dist_val</th>\n",
       "      <th>% nans</th>\n",
       "      <th>max_val</th>\n",
       "      <th>mean</th>\n",
       "      <th>min_val</th>\n",
       "      <th>std_dev</th>\n",
       "      <th>sample_1</th>\n",
       "      <th>sample_2</th>\n",
       "      <th>sample_3</th>\n",
       "      <th>sample_4</th>\n",
       "      <th>sample_5</th>\n",
       "    </tr>\n",
       "  </thead>\n",
       "  <tbody>\n",
       "    <tr>\n",
       "      <th>0</th>\n",
       "      <td>Unusable</td>\n",
       "      <td>l</td>\n",
       "      <td>StratificationCategory2</td>\n",
       "      <td>403984</td>\n",
       "      <td>1</td>\n",
       "      <td>80.364816</td>\n",
       "      <td>0.0</td>\n",
       "      <td>0.0</td>\n",
       "      <td>0.0</td>\n",
       "      <td>0.0</td>\n",
       "      <td>NaN</td>\n",
       "      <td>NaN</td>\n",
       "      <td>NaN</td>\n",
       "      <td>NaN</td>\n",
       "      <td>NaN</td>\n",
       "    </tr>\n",
       "  </tbody>\n",
       "</table>\n",
       "</div>"
      ],
      "text/plain": [
       "      y_act Reason           Attribute_name  Total_val  num of dist_val  \\\n",
       "0  Unusable      l  StratificationCategory2     403984                1   \n",
       "\n",
       "      % nans  max_val  mean  min_val  std_dev sample_1 sample_2 sample_3  \\\n",
       "0  80.364816      0.0   0.0      0.0      0.0      NaN      NaN      NaN   \n",
       "\n",
       "  sample_4 sample_5  \n",
       "0      NaN      NaN  "
      ]
     },
     "execution_count": 6,
     "metadata": {},
     "output_type": "execute_result"
    }
   ],
   "source": [
    "df = df.reindex(columns=cols)\n",
    "df[:1]"
   ]
  },
  {
   "cell_type": "code",
   "execution_count": 7,
   "metadata": {},
   "outputs": [
    {
     "name": "stdout",
     "output_type": "stream",
     "text": [
      "['y_act', 'Reason', 'Attribute_name', 'Total_val', 'num of dist_val', '% nans', 'max_val', 'mean', 'min_val', 'std_dev', 'sample_1', 'sample_2', 'sample_3', 'sample_4', 'sample_5']\n"
     ]
    }
   ],
   "source": [
    "print(df.columns.tolist())"
   ]
  },
  {
   "cell_type": "code",
   "execution_count": 8,
   "metadata": {},
   "outputs": [
    {
     "data": {
      "text/plain": [
       "array(['Unusable', 'Usable with extraction',\n",
       "       'Usable directly categorical', 'Context_specific',\n",
       "       'Usable directly numeric', 'Usable Directly Numeric',\n",
       "       'Usable Directly Categorical', 'Usable with Extraction',\n",
       "       'Usable Directly Categorical ', 'Usable with Extration',\n",
       "       'Usable With Extraction', 'Usable with Extraction ', 'unusable',\n",
       "       'Usable Directly numeric', 'Usable directly Categorical',\n",
       "       'Usable Directly categorical'], dtype=object)"
      ]
     },
     "execution_count": 8,
     "metadata": {},
     "output_type": "execute_result"
    }
   ],
   "source": [
    "df.y_act.unique()"
   ]
  },
  {
   "cell_type": "code",
   "execution_count": 9,
   "metadata": {},
   "outputs": [],
   "source": [
    "def label_mapper(row):\n",
    "    x = row['y_act']\n",
    "    try:\n",
    "        if 'categorical' in x.lower():\n",
    "            return 'Usable Directly Categorical'\n",
    "        if 'numeric' in x.lower():\n",
    "            return 'Usable Directly Numeric'\n",
    "        if 'extra' in x.lower():\n",
    "            return 'Usable With Extraction'\n",
    "        if 'unusable' in x.lower():\n",
    "            return 'Unusable'\n",
    "        if 'context' in x.lower():\n",
    "            return 'Context_Specific'\n",
    "    except:\n",
    "        print(x)\n",
    "        return 'NaN'"
   ]
  },
  {
   "cell_type": "code",
   "execution_count": 10,
   "metadata": {},
   "outputs": [],
   "source": [
    "df['y_act'] = df.apply(lambda row: label_mapper(row), axis=1)"
   ]
  },
  {
   "cell_type": "code",
   "execution_count": 11,
   "metadata": {},
   "outputs": [],
   "source": [
    "categories = {'Usable Directly Categorical':1, 'Usable Directly Numeric':2, 'Usable With Extraction':3, 'Unusable':4, 'Context_Specific':5, 'None':0}"
   ]
  },
  {
   "cell_type": "code",
   "execution_count": 12,
   "metadata": {},
   "outputs": [],
   "source": [
    "categories_size = {'Context_Specific':2050,'Unusable':891,'Usable Directly Categorical':2087,'Usable Directly Numeric':5063,'Usable With Extraction':650}"
   ]
  },
  {
   "cell_type": "code",
   "execution_count": 13,
   "metadata": {},
   "outputs": [
    {
     "data": {
      "text/plain": [
       "y_act\n",
       "Context_Specific               2050\n",
       "Unusable                        891\n",
       "Usable Directly Categorical    2087\n",
       "Usable Directly Numeric        5063\n",
       "Usable With Extraction          650\n",
       "dtype: int64"
      ]
     },
     "execution_count": 13,
     "metadata": {},
     "output_type": "execute_result"
    }
   ],
   "source": [
    "df.groupby(df.y_act).size()"
   ]
  },
  {
   "cell_type": "code",
   "execution_count": 14,
   "metadata": {},
   "outputs": [],
   "source": [
    "from lfs.helper import *\n",
    "from lfs.lf_categorical import *\n",
    "from lfs.lf_extration import *\n",
    "from lfs.lf_numerical import *\n",
    "from lfs.lf_unusable import *\n",
    "from lfs.lf_mixed_class import *"
   ]
  },
  {
   "cell_type": "markdown",
   "metadata": {},
   "source": [
    "## LABELING FUNCTIONS"
   ]
  },
  {
   "cell_type": "code",
   "execution_count": 15,
   "metadata": {},
   "outputs": [],
   "source": [
    "lfs_ext = [lf_extractable_units, lf_extractable_number_sci, lf_extractable_pattern, lf_date_extraction_name, lf_extractable_name, lf_extractable_list, lf_extractable_sample_length, lf_date_extraction_samples, lf_extractable_email_url]\n",
    "lfs_cate = [lf_binary_category, lf_name_category, lf_coded_abbreviation, lf_finite_set_name, lf_finite_set_sample, lf_dist_string_percentage, lf_dist_num_percentage]\n",
    "lfs_num = [lf_cast_to_numbers]\n",
    "lfs_unusable = [lf_unusable, lf_unusable_nans]\n",
    "lfs_mixed = [lf_key_word_year]"
   ]
  },
  {
   "cell_type": "code",
   "execution_count": 16,
   "metadata": {},
   "outputs": [],
   "source": [
    "LFs_1 = lfs_unusable\n",
    "LFs_2 = lfs_ext + lfs_cate + lfs_num + lfs_mixed\n",
    "LFs_3 = []\n",
    "LFs = LFs_1+LFs_2+LFs_3"
   ]
  },
  {
   "cell_type": "code",
   "execution_count": 17,
   "metadata": {},
   "outputs": [
    {
     "data": {
      "text/plain": [
       "20"
      ]
     },
     "execution_count": 17,
     "metadata": {},
     "output_type": "execute_result"
    }
   ],
   "source": [
    "total_lfs = len(LFs_1)+len(LFs_2)+len(LFs_3)\n",
    "total_lfs"
   ]
  },
  {
   "cell_type": "code",
   "execution_count": 18,
   "metadata": {},
   "outputs": [
    {
     "data": {
      "text/plain": [
       "(10741, 21)"
      ]
     },
     "execution_count": 18,
     "metadata": {},
     "output_type": "execute_result"
    }
   ],
   "source": [
    "n, m = len(df), total_lfs+1\n",
    "n, m"
   ]
  },
  {
   "cell_type": "code",
   "execution_count": 19,
   "metadata": {
    "scrolled": false
   },
   "outputs": [],
   "source": [
    "Ls = np.zeros((n,m))\n",
    "j = -1\n",
    "flag_1 = [False] * n\n",
    "cnt = 0\n",
    "for lf in LFs_1:\n",
    "    i = -1\n",
    "    j += 1\n",
    "    for index, row in df.iterrows():\n",
    "        i += 1\n",
    "        Ls[i][j] = lf(row)\n",
    "        if Ls[i][j] != 0:\n",
    "            flag_1[i] = True\n",
    "\n",
    "flag_2 = flag_1.copy()\n",
    "for lf in LFs_2:\n",
    "    i = -1\n",
    "    j += 1\n",
    "    for index, row in df.iterrows():\n",
    "        i += 1\n",
    "        if not flag_1[i]:\n",
    "            Ls[i][j] = lf(row)\n",
    "        if Ls[i][j] != 0:\n",
    "            flag_2[i] = True\n",
    "\n",
    "flag_3 = flag_2.copy()\n",
    "for lf in LFs_3:\n",
    "    i = -1\n",
    "    j += 1\n",
    "    for index, row in df.iterrows():\n",
    "        i += 1\n",
    "        if not flag_2[i]:\n",
    "            Ls[i][j] = lf(row)\n",
    "        if Ls[i][j] != 0:\n",
    "            flag_3[i] = True\n",
    "            \n",
    "j+=1\n",
    "for i in np.where(np.array(flag_3)==False)[0]:\n",
    "    Ls[i][j] = 5"
   ]
  },
  {
   "cell_type": "code",
   "execution_count": 20,
   "metadata": {},
   "outputs": [
    {
     "data": {
      "text/plain": [
       "y_act\n",
       "Context_Specific               2050\n",
       "Unusable                        891\n",
       "Usable Directly Categorical    2087\n",
       "Usable Directly Numeric        5063\n",
       "Usable With Extraction          650\n",
       "dtype: int64"
      ]
     },
     "execution_count": 20,
     "metadata": {},
     "output_type": "execute_result"
    }
   ],
   "source": [
    "df.groupby(df.y_act).size()"
   ]
  },
  {
   "cell_type": "code",
   "execution_count": 21,
   "metadata": {
    "scrolled": true
   },
   "outputs": [
    {
     "data": {
      "text/plain": [
       "(array([0., 1., 2., 3., 4., 5.]),\n",
       " array([210200,   4700,   7521,   1328,   1708,    104]))"
      ]
     },
     "execution_count": 21,
     "metadata": {},
     "output_type": "execute_result"
    }
   ],
   "source": [
    "np.unique(Ls, return_counts=True)"
   ]
  },
  {
   "cell_type": "code",
   "execution_count": 24,
   "metadata": {},
   "outputs": [],
   "source": [
    "from snorkel.annotations import LabelAnnotator\n",
    "labeler = LabelAnnotator(lfs=LFs)"
   ]
  },
  {
   "cell_type": "code",
   "execution_count": 25,
   "metadata": {},
   "outputs": [],
   "source": [
    "from scipy.sparse import csr_matrix"
   ]
  },
  {
   "cell_type": "code",
   "execution_count": 26,
   "metadata": {},
   "outputs": [
    {
     "data": {
      "text/plain": [
       "<10741x21 sparse matrix of type '<class 'numpy.int64'>'\n",
       "\twith 15361 stored elements in Compressed Sparse Row format>"
      ]
     },
     "execution_count": 26,
     "metadata": {},
     "output_type": "execute_result"
    }
   ],
   "source": [
    "L_train = csr_matrix(np.array(Ls, dtype=int))\n",
    "L_train"
   ]
  },
  {
   "cell_type": "code",
   "execution_count": 27,
   "metadata": {},
   "outputs": [
    {
     "name": "stdout",
     "output_type": "stream",
     "text": [
      "Inferred cardinality: 5\n"
     ]
    }
   ],
   "source": [
    "from snorkel.learning import GenerativeModel\n",
    "\n",
    "gen_model = GenerativeModel()\n",
    "gen_model.train(L_train, epochs=100, decay=0.95, step_size=0.1 / L_train.shape[0], reg_param=1e-6)"
   ]
  },
  {
   "cell_type": "code",
   "execution_count": 28,
   "metadata": {},
   "outputs": [
    {
     "data": {
      "text/plain": [
       "array([0.73524946, 0.72803433, 0.70504515, 0.7056207 , 0.70880496,\n",
       "       0.71043474, 0.70671161, 0.70731808, 0.706857  , 0.71255884,\n",
       "       0.70829756, 0.75268201, 0.72855988, 0.71683649, 0.73482953,\n",
       "       0.72325783, 0.75407547, 0.72557598, 0.63258521, 0.70364665,\n",
       "       0.70481322])"
      ]
     },
     "execution_count": 28,
     "metadata": {},
     "output_type": "execute_result"
    }
   ],
   "source": [
    "gen_model.weights.lf_accuracy"
   ]
  },
  {
   "cell_type": "code",
   "execution_count": 29,
   "metadata": {},
   "outputs": [],
   "source": [
    "train_marginals = gen_model.marginals(L_train)"
   ]
  },
  {
   "cell_type": "code",
   "execution_count": 30,
   "metadata": {},
   "outputs": [
    {
     "data": {
      "text/plain": [
       "<matplotlib.figure.Figure at 0x124eed400>"
      ]
     },
     "metadata": {},
     "output_type": "display_data"
    }
   ],
   "source": [
    "import matplotlib.pyplot as plt\n",
    "plt.hist(train_marginals, bins=20)\n",
    "plt.show()"
   ]
  },
  {
   "cell_type": "code",
   "execution_count": 31,
   "metadata": {},
   "outputs": [
    {
     "data": {
      "text/html": [
       "<div>\n",
       "<style scoped>\n",
       "    .dataframe tbody tr th:only-of-type {\n",
       "        vertical-align: middle;\n",
       "    }\n",
       "\n",
       "    .dataframe tbody tr th {\n",
       "        vertical-align: top;\n",
       "    }\n",
       "\n",
       "    .dataframe thead th {\n",
       "        text-align: right;\n",
       "    }\n",
       "</style>\n",
       "<table border=\"1\" class=\"dataframe\">\n",
       "  <thead>\n",
       "    <tr style=\"text-align: right;\">\n",
       "      <th></th>\n",
       "      <th>Accuracy</th>\n",
       "      <th>Coverage</th>\n",
       "    </tr>\n",
       "  </thead>\n",
       "  <tbody>\n",
       "    <tr>\n",
       "      <th>0</th>\n",
       "      <td>0.514224</td>\n",
       "      <td>0.80144</td>\n",
       "    </tr>\n",
       "    <tr>\n",
       "      <th>1</th>\n",
       "      <td>0.518775</td>\n",
       "      <td>0.80212</td>\n",
       "    </tr>\n",
       "    <tr>\n",
       "      <th>2</th>\n",
       "      <td>0.507591</td>\n",
       "      <td>0.80096</td>\n",
       "    </tr>\n",
       "    <tr>\n",
       "      <th>3</th>\n",
       "      <td>0.494952</td>\n",
       "      <td>0.80032</td>\n",
       "    </tr>\n",
       "    <tr>\n",
       "      <th>4</th>\n",
       "      <td>0.507795</td>\n",
       "      <td>0.80056</td>\n",
       "    </tr>\n",
       "    <tr>\n",
       "      <th>5</th>\n",
       "      <td>0.513588</td>\n",
       "      <td>0.80072</td>\n",
       "    </tr>\n",
       "    <tr>\n",
       "      <th>6</th>\n",
       "      <td>0.505219</td>\n",
       "      <td>0.79712</td>\n",
       "    </tr>\n",
       "    <tr>\n",
       "      <th>7</th>\n",
       "      <td>0.513527</td>\n",
       "      <td>0.79692</td>\n",
       "    </tr>\n",
       "    <tr>\n",
       "      <th>8</th>\n",
       "      <td>0.506232</td>\n",
       "      <td>0.80232</td>\n",
       "    </tr>\n",
       "    <tr>\n",
       "      <th>9</th>\n",
       "      <td>0.508126</td>\n",
       "      <td>0.79988</td>\n",
       "    </tr>\n",
       "    <tr>\n",
       "      <th>10</th>\n",
       "      <td>0.511887</td>\n",
       "      <td>0.80088</td>\n",
       "    </tr>\n",
       "    <tr>\n",
       "      <th>11</th>\n",
       "      <td>0.529273</td>\n",
       "      <td>0.79936</td>\n",
       "    </tr>\n",
       "    <tr>\n",
       "      <th>12</th>\n",
       "      <td>0.516309</td>\n",
       "      <td>0.80448</td>\n",
       "    </tr>\n",
       "    <tr>\n",
       "      <th>13</th>\n",
       "      <td>0.509477</td>\n",
       "      <td>0.79776</td>\n",
       "    </tr>\n",
       "    <tr>\n",
       "      <th>14</th>\n",
       "      <td>0.525752</td>\n",
       "      <td>0.80228</td>\n",
       "    </tr>\n",
       "    <tr>\n",
       "      <th>15</th>\n",
       "      <td>0.512347</td>\n",
       "      <td>0.79860</td>\n",
       "    </tr>\n",
       "    <tr>\n",
       "      <th>16</th>\n",
       "      <td>0.527896</td>\n",
       "      <td>0.79652</td>\n",
       "    </tr>\n",
       "    <tr>\n",
       "      <th>17</th>\n",
       "      <td>0.516095</td>\n",
       "      <td>0.79900</td>\n",
       "    </tr>\n",
       "    <tr>\n",
       "      <th>18</th>\n",
       "      <td>0.473925</td>\n",
       "      <td>0.80384</td>\n",
       "    </tr>\n",
       "    <tr>\n",
       "      <th>19</th>\n",
       "      <td>0.501650</td>\n",
       "      <td>0.80008</td>\n",
       "    </tr>\n",
       "    <tr>\n",
       "      <th>20</th>\n",
       "      <td>0.501518</td>\n",
       "      <td>0.80372</td>\n",
       "    </tr>\n",
       "  </tbody>\n",
       "</table>\n",
       "</div>"
      ],
      "text/plain": [
       "    Accuracy  Coverage\n",
       "0   0.514224   0.80144\n",
       "1   0.518775   0.80212\n",
       "2   0.507591   0.80096\n",
       "3   0.494952   0.80032\n",
       "4   0.507795   0.80056\n",
       "5   0.513588   0.80072\n",
       "6   0.505219   0.79712\n",
       "7   0.513527   0.79692\n",
       "8   0.506232   0.80232\n",
       "9   0.508126   0.79988\n",
       "10  0.511887   0.80088\n",
       "11  0.529273   0.79936\n",
       "12  0.516309   0.80448\n",
       "13  0.509477   0.79776\n",
       "14  0.525752   0.80228\n",
       "15  0.512347   0.79860\n",
       "16  0.527896   0.79652\n",
       "17  0.516095   0.79900\n",
       "18  0.473925   0.80384\n",
       "19  0.501650   0.80008\n",
       "20  0.501518   0.80372"
      ]
     },
     "execution_count": 31,
     "metadata": {},
     "output_type": "execute_result"
    }
   ],
   "source": [
    "gen_model.learned_lf_stats()"
   ]
  },
  {
   "cell_type": "code",
   "execution_count": 32,
   "metadata": {},
   "outputs": [
    {
     "data": {
      "text/plain": [
       "array([[0.04412389, 0.04412389, 0.04412389, 0.82350444, 0.04412389],\n",
       "       [0.04412389, 0.04412389, 0.04412389, 0.82350444, 0.04412389],\n",
       "       [0.04412389, 0.04412389, 0.04412389, 0.82350444, 0.04412389],\n",
       "       ...,\n",
       "       [0.132561  , 0.46975598, 0.132561  , 0.132561  , 0.132561  ],\n",
       "       [0.132561  , 0.46975598, 0.132561  , 0.132561  , 0.132561  ],\n",
       "       [0.132561  , 0.46975598, 0.132561  , 0.132561  , 0.132561  ]])"
      ]
     },
     "execution_count": 32,
     "metadata": {},
     "output_type": "execute_result"
    }
   ],
   "source": [
    "train_marginals"
   ]
  },
  {
   "cell_type": "code",
   "execution_count": 39,
   "metadata": {},
   "outputs": [],
   "source": [
    "np.savetxt('train_marginals.txt', train_marginals)"
   ]
  },
  {
   "cell_type": "code",
   "execution_count": 40,
   "metadata": {},
   "outputs": [],
   "source": [
    "df.to_csv('train_raw.csv')"
   ]
  },
  {
   "cell_type": "code",
   "execution_count": 33,
   "metadata": {},
   "outputs": [
    {
     "data": {
      "text/plain": [
       "array([3, 3, 3, 3, 2, 3, 0, 0, 0, 0, 0, 0, 3, 3, 3, 3, 2, 0, 0, 0, 0, 2,\n",
       "       2, 2, 0, 0, 0, 0, 2, 2, 2, 0, 0, 0, 0, 1, 4, 1, 0, 0, 1, 0, 0, 0,\n",
       "       0, 2, 0, 0, 0, 0])"
      ]
     },
     "execution_count": 33,
     "metadata": {},
     "output_type": "execute_result"
    }
   ],
   "source": [
    "denoised_labels = np.argmax(train_marginals, axis=1)\n",
    "denoised_labels[:50]"
   ]
  },
  {
   "cell_type": "code",
   "execution_count": 34,
   "metadata": {},
   "outputs": [],
   "source": [
    "corrects = 0\n",
    "cm = np.zeros(5)\n",
    "i = -1\n",
    "for index, row in df.iterrows():\n",
    "    i += 1\n",
    "    if denoised_labels[i]+1 == categories[row.y_act]:\n",
    "        corrects += 1\n",
    "    else:\n",
    "        cm[categories[row.y_act]-1] += 1"
   ]
  },
  {
   "cell_type": "code",
   "execution_count": 35,
   "metadata": {},
   "outputs": [
    {
     "data": {
      "text/plain": [
       "0.6894143934456755"
      ]
     },
     "execution_count": 35,
     "metadata": {},
     "output_type": "execute_result"
    }
   ],
   "source": [
    "corrects / len(df)"
   ]
  },
  {
   "cell_type": "code",
   "execution_count": 36,
   "metadata": {},
   "outputs": [
    {
     "data": {
      "text/plain": [
       "7405"
      ]
     },
     "execution_count": 36,
     "metadata": {},
     "output_type": "execute_result"
    }
   ],
   "source": [
    "corrects"
   ]
  },
  {
   "cell_type": "code",
   "execution_count": 37,
   "metadata": {
    "scrolled": true
   },
   "outputs": [
    {
     "data": {
      "text/plain": [
       "array([ 335.,  674.,  287.,   35., 2005.])"
      ]
     },
     "execution_count": 37,
     "metadata": {},
     "output_type": "execute_result"
    }
   ],
   "source": [
    "cm"
   ]
  },
  {
   "cell_type": "code",
   "execution_count": null,
   "metadata": {},
   "outputs": [],
   "source": []
  },
  {
   "cell_type": "code",
   "execution_count": null,
   "metadata": {},
   "outputs": [],
   "source": []
  },
  {
   "cell_type": "code",
   "execution_count": null,
   "metadata": {},
   "outputs": [],
   "source": []
  },
  {
   "cell_type": "markdown",
   "metadata": {},
   "source": [
    "BACKUP"
   ]
  },
  {
   "cell_type": "code",
   "execution_count": 85,
   "metadata": {},
   "outputs": [],
   "source": [
    "from snorkel.annotations import LabelAnnotator\n",
    "labeler = LabelAnnotator(lfs=LFs)"
   ]
  },
  {
   "cell_type": "code",
   "execution_count": 98,
   "metadata": {},
   "outputs": [],
   "source": [
    "from scipy.sparse import csr_matrix"
   ]
  },
  {
   "cell_type": "code",
   "execution_count": 99,
   "metadata": {},
   "outputs": [
    {
     "data": {
      "text/plain": [
       "<10741x17 sparse matrix of type '<class 'numpy.int64'>'\n",
       "\twith 11999 stored elements in Compressed Sparse Row format>"
      ]
     },
     "execution_count": 99,
     "metadata": {},
     "output_type": "execute_result"
    }
   ],
   "source": [
    "L_train = csr_matrix(np.array(Ls, dtype=int))\n",
    "L_train"
   ]
  },
  {
   "cell_type": "code",
   "execution_count": 100,
   "metadata": {},
   "outputs": [
    {
     "name": "stdout",
     "output_type": "stream",
     "text": [
      "Inferred cardinality: 5\n"
     ]
    }
   ],
   "source": [
    "from snorkel.learning import GenerativeModel\n",
    "\n",
    "gen_model = GenerativeModel()\n",
    "gen_model.train(L_train, epochs=100, decay=0.95, step_size=0.1 / L_train.shape[0], reg_param=1e-6)"
   ]
  },
  {
   "cell_type": "code",
   "execution_count": 101,
   "metadata": {},
   "outputs": [
    {
     "data": {
      "text/plain": [
       "array([0.71233108, 0.70567372, 0.70536448, 0.70789609, 0.70711461,\n",
       "       0.70982874, 0.70698972, 0.70794799, 0.70350743, 0.72981279,\n",
       "       0.72691405, 0.71446542, 0.72066986, 0.74939244, 0.72188569,\n",
       "       0.81458312, 0.70733583])"
      ]
     },
     "execution_count": 101,
     "metadata": {},
     "output_type": "execute_result"
    }
   ],
   "source": [
    "gen_model.weights.lf_accuracy"
   ]
  },
  {
   "cell_type": "code",
   "execution_count": 102,
   "metadata": {},
   "outputs": [],
   "source": [
    "train_marginals = gen_model.marginals(L_train)"
   ]
  },
  {
   "cell_type": "code",
   "execution_count": 103,
   "metadata": {},
   "outputs": [
    {
     "data": {
      "image/png": "[encoded data removed]",
      "text/plain": [
       "<matplotlib.figure.Figure at 0x120a13710>"
      ]
     },
     "metadata": {},
     "output_type": "display_data"
    }
   ],
   "source": [
    "import matplotlib.pyplot as plt\n",
    "plt.hist(train_marginals, bins=20)\n",
    "plt.show()"
   ]
  },
  {
   "cell_type": "code",
   "execution_count": 104,
   "metadata": {},
   "outputs": [
    {
     "data": {
      "text/html": [
       "<div>\n",
       "<style scoped>\n",
       "    .dataframe tbody tr th:only-of-type {\n",
       "        vertical-align: middle;\n",
       "    }\n",
       "\n",
       "    .dataframe tbody tr th {\n",
       "        vertical-align: top;\n",
       "    }\n",
       "\n",
       "    .dataframe thead th {\n",
       "        text-align: right;\n",
       "    }\n",
       "</style>\n",
       "<table border=\"1\" class=\"dataframe\">\n",
       "  <thead>\n",
       "    <tr style=\"text-align: right;\">\n",
       "      <th></th>\n",
       "      <th>Accuracy</th>\n",
       "      <th>Coverage</th>\n",
       "    </tr>\n",
       "  </thead>\n",
       "  <tbody>\n",
       "    <tr>\n",
       "      <th>0</th>\n",
       "      <td>0.510354</td>\n",
       "      <td>0.79968</td>\n",
       "    </tr>\n",
       "    <tr>\n",
       "      <th>1</th>\n",
       "      <td>0.503390</td>\n",
       "      <td>0.79652</td>\n",
       "    </tr>\n",
       "    <tr>\n",
       "      <th>2</th>\n",
       "      <td>0.504969</td>\n",
       "      <td>0.79688</td>\n",
       "    </tr>\n",
       "    <tr>\n",
       "      <th>3</th>\n",
       "      <td>0.503832</td>\n",
       "      <td>0.79852</td>\n",
       "    </tr>\n",
       "    <tr>\n",
       "      <th>4</th>\n",
       "      <td>0.507562</td>\n",
       "      <td>0.79612</td>\n",
       "    </tr>\n",
       "    <tr>\n",
       "      <th>5</th>\n",
       "      <td>0.508077</td>\n",
       "      <td>0.79736</td>\n",
       "    </tr>\n",
       "    <tr>\n",
       "      <th>6</th>\n",
       "      <td>0.510088</td>\n",
       "      <td>0.79696</td>\n",
       "    </tr>\n",
       "    <tr>\n",
       "      <th>7</th>\n",
       "      <td>0.505249</td>\n",
       "      <td>0.80016</td>\n",
       "    </tr>\n",
       "    <tr>\n",
       "      <th>8</th>\n",
       "      <td>0.498974</td>\n",
       "      <td>0.79932</td>\n",
       "    </tr>\n",
       "    <tr>\n",
       "      <th>9</th>\n",
       "      <td>0.519279</td>\n",
       "      <td>0.79880</td>\n",
       "    </tr>\n",
       "    <tr>\n",
       "      <th>10</th>\n",
       "      <td>0.519301</td>\n",
       "      <td>0.79892</td>\n",
       "    </tr>\n",
       "    <tr>\n",
       "      <th>11</th>\n",
       "      <td>0.508961</td>\n",
       "      <td>0.79676</td>\n",
       "    </tr>\n",
       "    <tr>\n",
       "      <th>12</th>\n",
       "      <td>0.520306</td>\n",
       "      <td>0.79976</td>\n",
       "    </tr>\n",
       "    <tr>\n",
       "      <th>13</th>\n",
       "      <td>0.527420</td>\n",
       "      <td>0.79504</td>\n",
       "    </tr>\n",
       "    <tr>\n",
       "      <th>14</th>\n",
       "      <td>0.510533</td>\n",
       "      <td>0.79940</td>\n",
       "    </tr>\n",
       "    <tr>\n",
       "      <th>15</th>\n",
       "      <td>0.560296</td>\n",
       "      <td>0.80636</td>\n",
       "    </tr>\n",
       "    <tr>\n",
       "      <th>16</th>\n",
       "      <td>0.502914</td>\n",
       "      <td>0.79608</td>\n",
       "    </tr>\n",
       "  </tbody>\n",
       "</table>\n",
       "</div>"
      ],
      "text/plain": [
       "    Accuracy  Coverage\n",
       "0   0.510354   0.79968\n",
       "1   0.503390   0.79652\n",
       "2   0.504969   0.79688\n",
       "3   0.503832   0.79852\n",
       "4   0.507562   0.79612\n",
       "5   0.508077   0.79736\n",
       "6   0.510088   0.79696\n",
       "7   0.505249   0.80016\n",
       "8   0.498974   0.79932\n",
       "9   0.519279   0.79880\n",
       "10  0.519301   0.79892\n",
       "11  0.508961   0.79676\n",
       "12  0.520306   0.79976\n",
       "13  0.527420   0.79504\n",
       "14  0.510533   0.79940\n",
       "15  0.560296   0.80636\n",
       "16  0.502914   0.79608"
      ]
     },
     "execution_count": 104,
     "metadata": {},
     "output_type": "execute_result"
    }
   ],
   "source": [
    "gen_model.learned_lf_stats()"
   ]
  },
  {
   "cell_type": "code",
   "execution_count": 107,
   "metadata": {},
   "outputs": [
    {
     "data": {
      "text/plain": [
       "array([[0.12260231, 0.12260231, 0.12260231, 0.50959077, 0.12260231],\n",
       "       [0.12260231, 0.12260231, 0.12260231, 0.50959077, 0.12260231],\n",
       "       [0.12260231, 0.12260231, 0.12260231, 0.50959077, 0.12260231],\n",
       "       ...,\n",
       "       [0.10989469, 0.56042125, 0.10989469, 0.10989469, 0.10989469],\n",
       "       [0.10989469, 0.56042125, 0.10989469, 0.10989469, 0.10989469],\n",
       "       [0.10989469, 0.56042125, 0.10989469, 0.10989469, 0.10989469]])"
      ]
     },
     "execution_count": 107,
     "metadata": {},
     "output_type": "execute_result"
    }
   ],
   "source": [
    "train_marginals"
   ]
  },
  {
   "cell_type": "code",
   "execution_count": 124,
   "metadata": {},
   "outputs": [
    {
     "data": {
      "text/plain": [
       "array([3, 3, 3, 3, 2, 3, 0, 0, 0, 0, 0, 0, 3, 3, 3, 3, 2, 0, 0, 0, 0, 2,\n",
       "       0, 2, 0, 4, 0, 0, 2, 2, 2, 0, 0, 0, 0, 0, 4, 1, 0, 0, 1, 0, 0, 0,\n",
       "       4, 2, 0, 0, 0, 0])"
      ]
     },
     "execution_count": 124,
     "metadata": {},
     "output_type": "execute_result"
    }
   ],
   "source": [
    "denoised_labels = np.argmax(train_marginals, axis=1)\n",
    "denoised_labels[:50]"
   ]
  },
  {
   "cell_type": "code",
   "execution_count": 126,
   "metadata": {},
   "outputs": [],
   "source": [
    "corrects = 0\n",
    "cm = np.zeros(5)\n",
    "i = -1\n",
    "for index, row in df.iterrows():\n",
    "    i += 1\n",
    "    if denoised_labels[i]+1 == categories[row.y_act]:\n",
    "        corrects += 1\n",
    "    else:\n",
    "        cm[categories[row.y_act]-1] += 1"
   ]
  },
  {
   "cell_type": "code",
   "execution_count": 127,
   "metadata": {},
   "outputs": [
    {
     "data": {
      "text/plain": [
       "0.6813145889581975"
      ]
     },
     "execution_count": 127,
     "metadata": {},
     "output_type": "execute_result"
    }
   ],
   "source": [
    "corrects / len(df)"
   ]
  },
  {
   "cell_type": "code",
   "execution_count": 128,
   "metadata": {},
   "outputs": [
    {
     "data": {
      "text/plain": [
       "7318"
      ]
     },
     "execution_count": 128,
     "metadata": {},
     "output_type": "execute_result"
    }
   ],
   "source": [
    "corrects"
   ]
  },
  {
   "cell_type": "code",
   "execution_count": 129,
   "metadata": {},
   "outputs": [
    {
     "data": {
      "text/plain": [
       "array([ 530.,  535.,  317.,  105., 1936.])"
      ]
     },
     "execution_count": 129,
     "metadata": {},
     "output_type": "execute_result"
    }
   ],
   "source": [
    "cm"
   ]
  },
  {
   "cell_type": "code",
   "execution_count": null,
   "metadata": {},
   "outputs": [],
   "source": []
  }
 ],
 "metadata": {
  "kernelspec": {
   "display_name": "Python3.5",
   "language": "python",
   "name": "python3.5"
  },
  "language_info": {
   "codemirror_mode": {
    "name": "ipython",
    "version": 3
   },
   "file_extension": ".py",
   "mimetype": "text/x-python",
   "name": "python",
   "nbconvert_exporter": "python",
   "pygments_lexer": "ipython3",
   "version": "3.5.5"
  }
 },
 "nbformat": 4,
 "nbformat_minor": 2
}
